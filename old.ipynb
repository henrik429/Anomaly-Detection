{
 "cells": [
  {
   "cell_type": "code",
   "execution_count": 1,
   "metadata": {},
   "outputs": [],
   "source": [
    "from utils.alad import ALAD\n",
    "import os\n",
    "import torch"
   ]
  },
  {
   "cell_type": "code",
   "execution_count": 2,
   "metadata": {
    "pycharm": {
     "name": "#%%\n"
    }
   },
   "outputs": [],
   "source": [
    "batch_size = 256\n",
    "dataset = 'CIFAR10'\n",
    "network_name = 'lol'"
   ]
  },
  {
   "cell_type": "code",
   "execution_count": 3,
   "metadata": {
    "pycharm": {
     "name": "#%%\n"
    }
   },
   "outputs": [],
   "source": [
    "alad = ALAD(\n",
    "    dataset,\n",
    "    batch_size,\n",
    "    network_name,\n",
    "    device=\"cuda\",\n",
    "    optimizer=torch.optim.Adam,\n",
    "    optimizer_kwargs=None,\n",
    "    max_epochs=40,\n",
    "    latent_dim=100,\n",
    "    verbose=False,\n",
    "    betas=(0.5, 0.999),\n",
    "    report_interval=10,\n",
    "    checkpoint_interval=500\n",
    ")"
   ]
  },
  {
   "cell_type": "code",
   "execution_count": 5,
   "metadata": {
    "pycharm": {
     "name": "#%%\n"
    }
   },
   "outputs": [
    {
     "name": "stdout",
     "output_type": "stream",
     "text": [
      "Files already downloaded and verified\n",
      "After discarding anomalous class 0, 45000 of 50000 images (90.0%) remain for training.\n",
      "---------------------------------------------------------------------------------------------------- \n",
      "\n",
      "------------------------ Start training with class plane as anomalous class ------------------------ \n",
      "\n",
      "----------------------------------------------------------------------------------------------------\n"
     ]
    },
    {
     "name": "stderr",
     "output_type": "stream",
     "text": [
      "100%|██████████| 40/40 [1:32:37<00:00, 138.93s/it]\n"
     ]
    },
    {
     "name": "stdout",
     "output_type": "stream",
     "text": [
      "Files already downloaded and verified\n",
      "After discarding anomalous class 1, 45000 of 50000 images (90.0%) remain for training.\n",
      "---------------------------------------------------------------------------------------------------- \n",
      "\n",
      "------------------------ Start training with class car as anomalous class ------------------------ \n",
      "\n",
      "----------------------------------------------------------------------------------------------------\n"
     ]
    },
    {
     "name": "stderr",
     "output_type": "stream",
     "text": [
      "100%|██████████| 40/40 [1:32:24<00:00, 138.62s/it]\n"
     ]
    },
    {
     "name": "stdout",
     "output_type": "stream",
     "text": [
      "Files already downloaded and verified\n",
      "After discarding anomalous class 2, 45000 of 50000 images (90.0%) remain for training.\n",
      "---------------------------------------------------------------------------------------------------- \n",
      "\n",
      "------------------------ Start training with class bird as anomalous class ------------------------ \n",
      "\n",
      "----------------------------------------------------------------------------------------------------\n"
     ]
    },
    {
     "name": "stderr",
     "output_type": "stream",
     "text": [
      "100%|██████████| 40/40 [1:31:00<00:00, 136.50s/it]\n"
     ]
    },
    {
     "name": "stdout",
     "output_type": "stream",
     "text": [
      "Files already downloaded and verified\n",
      "After discarding anomalous class 3, 45000 of 50000 images (90.0%) remain for training.\n",
      "---------------------------------------------------------------------------------------------------- \n",
      "\n",
      "------------------------ Start training with class cat as anomalous class ------------------------ \n",
      "\n",
      "----------------------------------------------------------------------------------------------------\n"
     ]
    },
    {
     "name": "stderr",
     "output_type": "stream",
     "text": [
      "100%|██████████| 40/40 [1:32:31<00:00, 138.78s/it]\n"
     ]
    },
    {
     "name": "stdout",
     "output_type": "stream",
     "text": [
      "Files already downloaded and verified\n",
      "After discarding anomalous class 4, 45000 of 50000 images (90.0%) remain for training.\n",
      "---------------------------------------------------------------------------------------------------- \n",
      "\n",
      "------------------------ Start training with class deer as anomalous class ------------------------ \n",
      "\n",
      "----------------------------------------------------------------------------------------------------\n"
     ]
    },
    {
     "name": "stderr",
     "output_type": "stream",
     "text": [
      "100%|██████████| 40/40 [1:30:40<00:00, 136.01s/it]\n"
     ]
    },
    {
     "name": "stdout",
     "output_type": "stream",
     "text": [
      "Files already downloaded and verified\n",
      "After discarding anomalous class 5, 45000 of 50000 images (90.0%) remain for training.\n",
      "---------------------------------------------------------------------------------------------------- \n",
      "\n",
      "------------------------ Start training with class dog as anomalous class ------------------------ \n",
      "\n",
      "----------------------------------------------------------------------------------------------------\n"
     ]
    },
    {
     "name": "stderr",
     "output_type": "stream",
     "text": [
      "100%|██████████| 40/40 [1:30:43<00:00, 136.08s/it]\n"
     ]
    },
    {
     "name": "stdout",
     "output_type": "stream",
     "text": [
      "Files already downloaded and verified\n",
      "After discarding anomalous class 6, 45000 of 50000 images (90.0%) remain for training.\n",
      "---------------------------------------------------------------------------------------------------- \n",
      "\n",
      "------------------------ Start training with class frog as anomalous class ------------------------ \n",
      "\n",
      "----------------------------------------------------------------------------------------------------\n"
     ]
    },
    {
     "name": "stderr",
     "output_type": "stream",
     "text": [
      "100%|██████████| 40/40 [1:30:40<00:00, 136.01s/it]\n"
     ]
    },
    {
     "name": "stdout",
     "output_type": "stream",
     "text": [
      "Files already downloaded and verified\n",
      "After discarding anomalous class 7, 45000 of 50000 images (90.0%) remain for training.\n",
      "---------------------------------------------------------------------------------------------------- \n",
      "\n",
      "------------------------ Start training with class horse as anomalous class ------------------------ \n",
      "\n",
      "----------------------------------------------------------------------------------------------------\n"
     ]
    },
    {
     "name": "stderr",
     "output_type": "stream",
     "text": [
      "100%|██████████| 40/40 [1:30:40<00:00, 136.00s/it]\n"
     ]
    },
    {
     "name": "stdout",
     "output_type": "stream",
     "text": [
      "Files already downloaded and verified\n",
      "After discarding anomalous class 8, 45000 of 50000 images (90.0%) remain for training.\n",
      "---------------------------------------------------------------------------------------------------- \n",
      "\n",
      "------------------------ Start training with class ship as anomalous class ------------------------ \n",
      "\n",
      "----------------------------------------------------------------------------------------------------\n"
     ]
    },
    {
     "name": "stderr",
     "output_type": "stream",
     "text": [
      "100%|██████████| 40/40 [1:30:51<00:00, 136.29s/it]\n"
     ]
    },
    {
     "name": "stdout",
     "output_type": "stream",
     "text": [
      "Files already downloaded and verified\n",
      "After discarding anomalous class 9, 45000 of 50000 images (90.0%) remain for training.\n",
      "---------------------------------------------------------------------------------------------------- \n",
      "\n",
      "------------------------ Start training with class truck as anomalous class ------------------------ \n",
      "\n",
      "----------------------------------------------------------------------------------------------------\n"
     ]
    },
    {
     "name": "stderr",
     "output_type": "stream",
     "text": [
      "100%|██████████| 40/40 [1:30:41<00:00, 136.03s/it]\n"
     ]
    }
   ],
   "source": [
    "alad.train()"
   ]
  },
  {
   "cell_type": "code",
   "execution_count": null,
   "metadata": {
    "pycharm": {
     "name": "#%%\n"
    },
    "scrolled": false
   },
   "outputs": [
    {
     "name": "stdout",
     "output_type": "stream",
     "text": [
      "Start evaluation...\n",
      "Files already downloaded and verified\n",
      "Number of anomalous samples: 1000\n"
     ]
    },
    {
     "name": "stderr",
     "output_type": "stream",
     "text": [
      "100%|██████████████████████████████████████████████████████████████████████████████████████████████████████████████████████████████████████████████████████████████████████████████████████████| 40/40 [00:04<00:00,  8.55it/s]\n"
     ]
    },
    {
     "name": "stdout",
     "output_type": "stream",
     "text": [
      "Files already downloaded and verified\n",
      "Number of anomalous samples: 1000\n"
     ]
    },
    {
     "name": "stderr",
     "output_type": "stream",
     "text": [
      "100%|██████████████████████████████████████████████████████████████████████████████████████████████████████████████████████████████████████████████████████████████████████████████████████████| 40/40 [00:04<00:00,  8.98it/s]\n"
     ]
    },
    {
     "name": "stdout",
     "output_type": "stream",
     "text": [
      "Files already downloaded and verified\n",
      "Number of anomalous samples: 1000\n"
     ]
    },
    {
     "name": "stderr",
     "output_type": "stream",
     "text": [
      "100%|██████████████████████████████████████████████████████████████████████████████████████████████████████████████████████████████████████████████████████████████████████████████████████████| 40/40 [00:04<00:00,  9.00it/s]\n"
     ]
    },
    {
     "name": "stdout",
     "output_type": "stream",
     "text": [
      "Files already downloaded and verified\n",
      "Number of anomalous samples: 1000\n"
     ]
    },
    {
     "name": "stderr",
     "output_type": "stream",
     "text": [
      " 85%|██████████████████████████████████████████████████████████████████████████████████████████████████████████████████████████████████████████████████████████████                            | 34/40 [00:03<00:00,  8.90it/s]"
     ]
    }
   ],
   "source": [
    "alad.evaluate()"
   ]
  },
  {
   "cell_type": "code",
   "execution_count": null,
   "metadata": {
    "pycharm": {
     "name": "#%%\n"
    }
   },
   "outputs": [],
   "source": []
  }
 ],
 "metadata": {
  "kernelspec": {
   "display_name": "Python 3 (ipykernel)",
   "language": "python",
   "name": "python3"
  },
  "language_info": {
   "codemirror_mode": {
    "name": "ipython",
    "version": 3
   },
   "file_extension": ".py",
   "mimetype": "text/x-python",
   "name": "python",
   "nbconvert_exporter": "python",
   "pygments_lexer": "ipython3",
   "version": "3.8.10"
  }
 },
 "nbformat": 4,
 "nbformat_minor": 1
}